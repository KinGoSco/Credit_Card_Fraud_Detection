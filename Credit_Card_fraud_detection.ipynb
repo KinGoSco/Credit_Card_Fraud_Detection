{
 "cells": [
  {
   "cell_type": "code",
   "execution_count": null,
   "id": "369d00dc",
   "metadata": {},
   "outputs": [],
   "source": [
    "import pandas as pd\n",
    "import numpy as np\n",
    "import seaborn as sns\n",
    "import matplotlib.pyplot as plt"
   ]
  },
  {
   "cell_type": "code",
   "execution_count": null,
   "id": "167c4034",
   "metadata": {},
   "outputs": [],
   "source": [
    "https://www.kaggle.com/code/wysex7/credit-card-fraud-detection?scriptVersionId=141096018&cellId=5"
   ]
  },
  {
   "cell_type": "code",
   "execution_count": null,
   "id": "c17cd922",
   "metadata": {},
   "outputs": [],
   "source": [
    "fraud_data.info()"
   ]
  },
  {
   "cell_type": "code",
   "execution_count": null,
   "id": "146e6da7",
   "metadata": {},
   "outputs": [],
   "source": [
    "fraud_data['Class'].value_counts()\n"
   ]
  },
  {
   "cell_type": "code",
   "execution_count": null,
   "id": "52dea740",
   "metadata": {},
   "outputs": [],
   "source": [
    "sns.countplot(x='Class',data=fraud_data)\n"
   ]
  },
  {
   "cell_type": "code",
   "execution_count": null,
   "id": "1b8e3762",
   "metadata": {},
   "outputs": [],
   "source": [
    "def class_adj(classfr):\n",
    "    if classfr == \"'0'\":\n",
    "        return 0\n",
    "    elif classfr == \"'1'\":\n",
    "        return 1\n",
    "    else:\n",
    "        pass\n",
    "fraud_data['Class'] = fraud_data['Class'].apply(class_adj)"
   ]
  },
  {
   "cell_type": "code",
   "execution_count": null,
   "id": "276701f5",
   "metadata": {},
   "outputs": [],
   "source": [
    "import pandas as pd\n",
    "from sklearn.tree import DecisionTreeClassifier\n",
    "from sklearn.model_selection import train_test_split\n",
    "from imblearn.over_sampling import RandomOverSampler\n",
    "from collections import Counter\n",
    "\n",
    "# Assuming you have a DataFrame named 'adj_fraud_data'\n",
    "X = fraud_data.drop('Class', axis=1)\n",
    "y = fraud_data['Class']\n",
    "\n",
    "# Applying random oversampling to balance the classes\n",
    "oversampler = RandomOverSampler(random_state=42)\n",
    "X_resampled, y_resampled = oversampler.fit_resample(X, y)\n",
    "\n",
    "# Splitting the resampled data into train and test sets\n",
    "X_train, X_test, y_train, y_test = train_test_split(X_resampled, y_resampled, test_size=0.3, random_state=42)\n",
    "\n",
    "# Training a Decision Tree Classifier\n",
    "dtc = DecisionTreeClassifier(max_depth=15)\n",
    "dtc.fit(X_train, y_train)\n",
    "\n",
    "\n",
    "# Making predictions\n",
    "predictions = dtc.predict(X_test)\n",
    "\n",
    "# Evaluate the model's performance as needed"
   ]
  },
  {
   "cell_type": "code",
   "execution_count": null,
   "id": "e50a13dc",
   "metadata": {},
   "outputs": [],
   "source": [
    "from sklearn.metrics import classification_report,confusion_matrix,accuracy_score\n",
    "print(classification_report(y_test,predictions))\n",
    "print('\\n')\n",
    "print(confusion_matrix(y_test,predictions))"
   ]
  },
  {
   "cell_type": "code",
   "execution_count": null,
   "id": "33e1b960",
   "metadata": {},
   "outputs": [],
   "source": [
    "train_scores, test_scores = list(), list()\n",
    "values = [i for i in range(1, 10)]\n",
    "for i in values:\n",
    "    dtc = DecisionTreeClassifier(max_depth=i)\n",
    "    dtc.fit(X_train,y_train)\n",
    "    train_yhat = dtc.predict(X_train)\n",
    "    train_acc = accuracy_score(y_train, train_yhat)\n",
    "    train_scores.append(train_acc)\n",
    "    # evaluate on the test dataset\n",
    "    test_yhat = dtc.predict(X_test)\n",
    "    test_acc = accuracy_score(y_test, test_yhat)\n",
    "    test_scores.append(test_acc)\n",
    "    print('>%d, train: %.3f, test: %.3f' % (i, train_acc, test_acc))\n",
    "# plot of train and test scores vs tree depth\n",
    "plt.plot(values, train_scores, 'go--', label='Train')\n",
    "plt.plot(values, test_scores, '-o', label='Test')\n",
    "plt.legend()\n",
    "plt.show()"
   ]
  }
 ],
 "metadata": {
  "kernelspec": {
   "display_name": "Python 3 (ipykernel)",
   "language": "python",
   "name": "python3"
  },
  "language_info": {
   "codemirror_mode": {
    "name": "ipython",
    "version": 3
   },
   "file_extension": ".py",
   "mimetype": "text/x-python",
   "name": "python",
   "nbconvert_exporter": "python",
   "pygments_lexer": "ipython3",
   "version": "3.9.13"
  }
 },
 "nbformat": 4,
 "nbformat_minor": 5
}
